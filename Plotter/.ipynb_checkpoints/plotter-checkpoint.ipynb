{
 "cells": [
  {
   "cell_type": "code",
   "execution_count": 59,
   "metadata": {},
   "outputs": [
    {
     "data": {
      "text/html": [
       "        <script type=\"text/javascript\">\n",
       "        window.PlotlyConfig = {MathJaxConfig: 'local'};\n",
       "        if (window.MathJax && window.MathJax.Hub && window.MathJax.Hub.Config) {window.MathJax.Hub.Config({SVG: {font: \"STIX-Web\"}});}\n",
       "        if (typeof require !== 'undefined') {\n",
       "        require.undef(\"plotly\");\n",
       "        requirejs.config({\n",
       "            paths: {\n",
       "                'plotly': ['https://cdn.plot.ly/plotly-2.12.1.min']\n",
       "            }\n",
       "        });\n",
       "        require(['plotly'], function(Plotly) {\n",
       "            window._Plotly = Plotly;\n",
       "        });\n",
       "        }\n",
       "        </script>\n",
       "        "
      ]
     },
     "metadata": {},
     "output_type": "display_data"
    },
    {
     "data": {
      "text/html": [
       "        <script type=\"text/javascript\">\n",
       "        window.PlotlyConfig = {MathJaxConfig: 'local'};\n",
       "        if (window.MathJax && window.MathJax.Hub && window.MathJax.Hub.Config) {window.MathJax.Hub.Config({SVG: {font: \"STIX-Web\"}});}\n",
       "        if (typeof require !== 'undefined') {\n",
       "        require.undef(\"plotly\");\n",
       "        requirejs.config({\n",
       "            paths: {\n",
       "                'plotly': ['https://cdn.plot.ly/plotly-2.12.1.min']\n",
       "            }\n",
       "        });\n",
       "        require(['plotly'], function(Plotly) {\n",
       "            window._Plotly = Plotly;\n",
       "        });\n",
       "        }\n",
       "        </script>\n",
       "        "
      ]
     },
     "metadata": {},
     "output_type": "display_data"
    }
   ],
   "source": [
    "import numpy as np\n",
    "import matplotlib.pyplot as plt\n",
    "import pandas as pd\n",
    "import plotly as pl\n",
    "import plotly.graph_objs as go\n",
    "import cufflinks as cf\n",
    "import plotly.offline as po\n",
    "po.init_notebook_mode(connected=True)\n",
    "cf.go_offline()"
   ]
  },
  {
   "cell_type": "code",
   "execution_count": 54,
   "metadata": {},
   "outputs": [],
   "source": [
    "def createData(data):\n",
    "    if(data == 1):\n",
    "        random_data = np.random.rand(100, 5)\n",
    "        df = pd.DataFrame(random_data, columns=['A', 'B', 'C', 'D', 'E'])\n",
    "        print(\"\\n\")\n",
    "        print(\"\\n\")\n",
    "        print(\"Random Data:\")\n",
    "        print(df.head())\n",
    "    elif(data == 2):\n",
    "        x = [0,0,0,0,0]\n",
    "        r1 = [0,0,0,0,0]\n",
    "        r2 = [0,0,0,0,0]\n",
    "        r3 = [0,0,0,0,0]\n",
    "        r4 = [0,0,0,0,0]\n",
    "        print(\"Enter the values for columns\")\n",
    "        i = 0\n",
    "        for i in [0,1,2,3,4]:\n",
    "            x[i] = input()\n",
    "            i = i + 1\n",
    "\n",
    "        print(\"Enter the values for first row\")\n",
    "        i = 0\n",
    "        for i in [0,1,2,3,4]:\n",
    "            r1[i] = int(input())\n",
    "            i = i + 1\n",
    "\n",
    "        print(\"Enter the values for second row\")\n",
    "        i = 0\n",
    "        for i in [0,1,2,3,4]:\n",
    "            r2[i] = int(input())\n",
    "            i = i + 1\n",
    "\n",
    "        print(\"Enter the values for third row\")\n",
    "        i = 0\n",
    "        for i in [0,1,2,3,4]:\n",
    "            r3[i] = int(input())\n",
    "            i = i + 1\n",
    "\n",
    "        print(\"Enter the values for fourth row\")\n",
    "        i = 0\n",
    "        for i in [0,1,2,3,4]:\n",
    "            r4[i] = int(input())\n",
    "            i = i + 1\n",
    "        df = pd.DataFrame([r1,r2,r3,r4], columns=x)\n",
    "        print(\"\\n\")\n",
    "        print(\"\\n\")\n",
    "        print(\"Customized Data:\")\n",
    "        print(df.head())\n",
    "    elif(data == 3):\n",
    "        input_file = input(\"Enter the file name with extension: \")\n",
    "        df = pd.read_csv(input_file)\n",
    "        file_dataFrame = pd.DataFrame(df)\n",
    "        print(\"\\n\")\n",
    "        print(\"\\n\")\n",
    "        print(\"File Data:\")\n",
    "        print(file_dataFrame.head())\n",
    "    else:\n",
    "        print(\"Invalid input! DataFrame Creation Failed\")\n",
    "    # return df\n",
    "        "
   ]
  },
  {
   "cell_type": "code",
   "execution_count": 55,
   "metadata": {},
   "outputs": [],
   "source": [
    "def plotter(plot):\n",
    "    if(plot == 1):\n",
    "        finalOutpt = df.iplot(kind='line')\n",
    "    elif(plot == 2):\n",
    "        finalOutpt = df.iplot(kind='bar', barmode='stack')\n",
    "    elif(plot == 3):\n",
    "        finalOutpt = df.iplot(kind='scatter', mode='markers', symbol='x')\n",
    "    elif(plot == 4):\n",
    "        finalOutpt = df.iplot(kind='box')\n",
    "    elif(plot == 5):\n",
    "        finalOutpt = df.iplot(kind='hist')\n",
    "    elif(plot == 6):\n",
    "        finalOutpt = df.iplot(kind='surface')\n",
    "    else:\n",
    "        print(\"Invalid input! Plotting Failed\")\n",
    "    return finalOutpt"
   ]
  },
  {
   "cell_type": "code",
   "execution_count": 56,
   "metadata": {},
   "outputs": [],
   "source": [
    "def plotter2(plot):\n",
    "    if(plot == 1):\n",
    "        finalOutpt = df.iplot(kind='line')\n",
    "    elif(plot == 2):\n",
    "        finalOutpt = df.iplot(kind='bar')\n",
    "    elif(plot == 3):\n",
    "        finalOutpt = df.iplot(kind='scatter')\n",
    "    elif(plot == 4):\n",
    "        finalOutpt = df.iplot(kind='box')\n",
    "    elif(plot == 5):\n",
    "        finalOutpt = df.iplot(kind='hist')\n",
    "    elif(plot == 6):\n",
    "        finalOutpt = df.iplot(kind='surface')\n",
    "    elif(plot == 7):\n",
    "        finalOutpt = df.iplot(kind='bubble')\n",
    "    else:\n",
    "        print(\"Invalid input! Plotting Failed\")\n",
    "    return finalOutpt"
   ]
  },
  {
   "cell_type": "code",
   "execution_count": 57,
   "metadata": {},
   "outputs": [],
   "source": [
    "def plotData(cat):\n",
    "    if(cat == 1):\n",
    "        print(\"Select the type of plot you want to create from option 1-6\")\n",
    "        print(\"1. Line Plot\")\n",
    "        print(\"2. Bar Plot\")\n",
    "        print(\"3. Scatter Plot\")\n",
    "        print(\"4. Box Plot\")\n",
    "        print(\"5. Histogram Plot\")\n",
    "        print(\"6. Surface Plot\")\n",
    "        plot_type = int(input())\n",
    "        output = plotter(plot_type)\n",
    "    elif(cat == 2):\n",
    "        print(\"Select the type of plot you want to create from option 1-6\")\n",
    "        print(\"1. Line Plot\")\n",
    "        print(\"2. Bar Plot\")\n",
    "        print(\"3. Scatter Plot\")\n",
    "        print(\"4. Box Plot\")\n",
    "        print(\"5. Histogram Plot\")\n",
    "        print(\"6. Surface Plot\")\n",
    "        print(\"7. Bubble Plot\")\n",
    "        plot_type = input()\n",
    "        output = plotter2(plot_type)\n",
    "    else:\n",
    "        print(\"Invalid input! Plot Creation Failed\")"
   ]
  },
  {
   "cell_type": "code",
   "execution_count": 56,
   "metadata": {},
   "outputs": [
    {
     "name": "stdout",
     "output_type": "stream",
     "text": [
      "Select the type of data to be plotted. Select from 1,2,3\n",
      "1. Random Data with 5 columns\n",
      "2. Customized Data with 5 cols and 4 rows\n",
      "3. Upload your own data in csv/json/txt format\n",
      "Enter your choice: 1\n",
      "\n",
      "\n",
      "\n",
      "\n",
      "Random Data:\n",
      "          A         B         C         D         E\n",
      "0  0.679267  0.402572  0.008546  0.628844  0.891046\n",
      "1  0.133676  0.893245  0.817441  0.974314  0.331892\n",
      "2  0.160475  0.787272  0.005470  0.651108  0.855111\n",
      "3  0.567761  0.501308  0.649913  0.245598  0.566597\n",
      "4  0.673342  0.812252  0.404175  0.497785  0.162762\n"
     ]
    }
   ],
   "source": [
    "# Creating data\n",
    "print(\"Select the type of data to be plotted. Select from 1,2,3\")\n",
    "print(\"1. Random Data with 5 columns\")\n",
    "print(\"2. Customized Data with 5 cols and 4 rows\") \n",
    "print(\"3. Upload your own data in csv/json/txt format\")\n",
    "user_input = int(input(\"Enter your choice: \"))\n",
    "df1 = createData(user_input)"
   ]
  },
  {
   "cell_type": "code",
   "execution_count": 57,
   "metadata": {},
   "outputs": [
    {
     "name": "stdout",
     "output_type": "stream",
     "text": [
      "What kind of plot do you need? Complete data plot or column wise plot?\n",
      "Enter 1 for complete data plot and 2 for column wise plot: 1\n"
     ]
    }
   ],
   "source": [
    "# Plotting data\n",
    "print(\"What kind of plot do you need? Complete data plot or column wise plot?\")\n",
    "cat = int(input(\"Enter 1 for complete data plot and 2 for column wise plot: \"))"
   ]
  },
  {
   "cell_type": "code",
   "execution_count": 58,
   "metadata": {},
   "outputs": [
    {
     "name": "stdout",
     "output_type": "stream",
     "text": [
      "Select the type of plot you want to create from option 1-6\n",
      "1. Line Plot\n",
      "2. Bar Plot\n",
      "3. Scatter Plot\n",
      "4. Box Plot\n",
      "5. Histogram Plot\n",
      "6. Surface Plot\n",
      "1\n"
     ]
    },
    {
     "ename": "NameError",
     "evalue": "name 'df' is not defined",
     "output_type": "error",
     "traceback": [
      "\u001b[1;31m---------------------------------------------------------------------------\u001b[0m",
      "\u001b[1;31mNameError\u001b[0m                                 Traceback (most recent call last)",
      "\u001b[1;32m~\\AppData\\Local\\Temp/ipykernel_15324/1349553427.py\u001b[0m in \u001b[0;36m<module>\u001b[1;34m\u001b[0m\n\u001b[1;32m----> 1\u001b[1;33m \u001b[0mplotData\u001b[0m\u001b[1;33m(\u001b[0m\u001b[0mcat\u001b[0m\u001b[1;33m)\u001b[0m\u001b[1;33m\u001b[0m\u001b[1;33m\u001b[0m\u001b[0m\n\u001b[0m",
      "\u001b[1;32m~\\AppData\\Local\\Temp/ipykernel_15324/3583317686.py\u001b[0m in \u001b[0;36mplotData\u001b[1;34m(cat)\u001b[0m\n\u001b[0;32m      9\u001b[0m         \u001b[0mprint\u001b[0m\u001b[1;33m(\u001b[0m\u001b[1;34m\"6. Surface Plot\"\u001b[0m\u001b[1;33m)\u001b[0m\u001b[1;33m\u001b[0m\u001b[1;33m\u001b[0m\u001b[0m\n\u001b[0;32m     10\u001b[0m         \u001b[0mplot_type\u001b[0m \u001b[1;33m=\u001b[0m \u001b[0mint\u001b[0m\u001b[1;33m(\u001b[0m\u001b[0minput\u001b[0m\u001b[1;33m(\u001b[0m\u001b[1;33m)\u001b[0m\u001b[1;33m)\u001b[0m\u001b[1;33m\u001b[0m\u001b[1;33m\u001b[0m\u001b[0m\n\u001b[1;32m---> 11\u001b[1;33m         \u001b[0moutput\u001b[0m \u001b[1;33m=\u001b[0m \u001b[0mplotter\u001b[0m\u001b[1;33m(\u001b[0m\u001b[0mplot_type\u001b[0m\u001b[1;33m)\u001b[0m\u001b[1;33m\u001b[0m\u001b[1;33m\u001b[0m\u001b[0m\n\u001b[0m\u001b[0;32m     12\u001b[0m     \u001b[1;32melif\u001b[0m\u001b[1;33m(\u001b[0m\u001b[0mcat\u001b[0m \u001b[1;33m==\u001b[0m \u001b[1;36m2\u001b[0m\u001b[1;33m)\u001b[0m\u001b[1;33m:\u001b[0m\u001b[1;33m\u001b[0m\u001b[1;33m\u001b[0m\u001b[0m\n\u001b[0;32m     13\u001b[0m         \u001b[0mprint\u001b[0m\u001b[1;33m(\u001b[0m\u001b[1;34m\"Select the type of plot you want to create from option 1-6\"\u001b[0m\u001b[1;33m)\u001b[0m\u001b[1;33m\u001b[0m\u001b[1;33m\u001b[0m\u001b[0m\n",
      "\u001b[1;32m~\\AppData\\Local\\Temp/ipykernel_15324/1857818118.py\u001b[0m in \u001b[0;36mplotter\u001b[1;34m(plot)\u001b[0m\n\u001b[0;32m      1\u001b[0m \u001b[1;32mdef\u001b[0m \u001b[0mplotter\u001b[0m\u001b[1;33m(\u001b[0m\u001b[0mplot\u001b[0m\u001b[1;33m)\u001b[0m\u001b[1;33m:\u001b[0m\u001b[1;33m\u001b[0m\u001b[1;33m\u001b[0m\u001b[0m\n\u001b[0;32m      2\u001b[0m     \u001b[1;32mif\u001b[0m\u001b[1;33m(\u001b[0m\u001b[0mplot\u001b[0m \u001b[1;33m==\u001b[0m \u001b[1;36m1\u001b[0m\u001b[1;33m)\u001b[0m\u001b[1;33m:\u001b[0m\u001b[1;33m\u001b[0m\u001b[1;33m\u001b[0m\u001b[0m\n\u001b[1;32m----> 3\u001b[1;33m         \u001b[0mfinalOutpt\u001b[0m \u001b[1;33m=\u001b[0m \u001b[0mdf\u001b[0m\u001b[1;33m.\u001b[0m\u001b[0miplot\u001b[0m\u001b[1;33m(\u001b[0m\u001b[0mkind\u001b[0m\u001b[1;33m=\u001b[0m\u001b[1;34m'line'\u001b[0m\u001b[1;33m)\u001b[0m\u001b[1;33m\u001b[0m\u001b[1;33m\u001b[0m\u001b[0m\n\u001b[0m\u001b[0;32m      4\u001b[0m     \u001b[1;32melif\u001b[0m\u001b[1;33m(\u001b[0m\u001b[0mplot\u001b[0m \u001b[1;33m==\u001b[0m \u001b[1;36m2\u001b[0m\u001b[1;33m)\u001b[0m\u001b[1;33m:\u001b[0m\u001b[1;33m\u001b[0m\u001b[1;33m\u001b[0m\u001b[0m\n\u001b[0;32m      5\u001b[0m         \u001b[0mfinalOutpt\u001b[0m \u001b[1;33m=\u001b[0m \u001b[0mdf\u001b[0m\u001b[1;33m.\u001b[0m\u001b[0miplot\u001b[0m\u001b[1;33m(\u001b[0m\u001b[0mkind\u001b[0m\u001b[1;33m=\u001b[0m\u001b[1;34m'bar'\u001b[0m\u001b[1;33m,\u001b[0m \u001b[0mbarmode\u001b[0m\u001b[1;33m=\u001b[0m\u001b[1;34m'stack'\u001b[0m\u001b[1;33m)\u001b[0m\u001b[1;33m\u001b[0m\u001b[1;33m\u001b[0m\u001b[0m\n",
      "\u001b[1;31mNameError\u001b[0m: name 'df' is not defined"
     ]
    }
   ],
   "source": [
    "plotData(cat)"
   ]
  },
  {
   "cell_type": "code",
   "execution_count": null,
   "metadata": {},
   "outputs": [],
   "source": []
  },
  {
   "cell_type": "code",
   "execution_count": null,
   "metadata": {},
   "outputs": [],
   "source": []
  },
  {
   "cell_type": "code",
   "execution_count": null,
   "metadata": {},
   "outputs": [],
   "source": []
  }
 ],
 "metadata": {
  "kernelspec": {
   "display_name": "Python 3 (ipykernel)",
   "language": "python",
   "name": "python3"
  },
  "language_info": {
   "codemirror_mode": {
    "name": "ipython",
    "version": 3
   },
   "file_extension": ".py",
   "mimetype": "text/x-python",
   "name": "python",
   "nbconvert_exporter": "python",
   "pygments_lexer": "ipython3",
   "version": "3.10.2"
  },
  "vscode": {
   "interpreter": {
    "hash": "5666a3d1bc91ffbff1466abe7bdd0fa91f5e0a396fdd17d39b1c2038c08c1d53"
   }
  }
 },
 "nbformat": 4,
 "nbformat_minor": 2
}
